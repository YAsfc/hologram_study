{
 "cells": [
  {
   "cell_type": "markdown",
   "id": "fdc62c49",
   "metadata": {},
   "source": [
    "pyhtonで画像を取り扱ったことがないので、まずは画像を生成する"
   ]
  },
  {
   "cell_type": "code",
   "execution_count": 10,
   "id": "c149aeef",
   "metadata": {},
   "outputs": [],
   "source": [
    "from PIL import Image\n",
    "\n",
    "img=Image.new(\"L\",(500,500),80)\n",
    "img.show()"
   ]
  },
  {
   "cell_type": "markdown",
   "id": "5c0477e1",
   "metadata": {},
   "source": [
    "ピクセルの処理ができるようになりたいので、ネガポジ反転してみる"
   ]
  },
  {
   "cell_type": "code",
   "execution_count": 11,
   "id": "0a890eb4",
   "metadata": {},
   "outputs": [],
   "source": [
    "img2=Image.new(\"L\",img.size)\n",
    "\n",
    "size=img.size\n",
    "for x in range(size[0]):\n",
    "    for y in range(size[1]):\n",
    "        b=img.getpixel((x,y))\n",
    "        \n",
    "        b=255-b\n",
    "        img2.putpixel((x,y),(b))\n",
    "        \n",
    "img2.show()"
   ]
  },
  {
   "cell_type": "markdown",
   "id": "257e8a2b",
   "metadata": {},
   "source": [
    "ピクセルごとに値を変えてみる"
   ]
  },
  {
   "cell_type": "code",
   "execution_count": 12,
   "id": "e1955837",
   "metadata": {},
   "outputs": [
    {
     "ename": "TypeError",
     "evalue": "color must be int or tuple",
     "output_type": "error",
     "traceback": [
      "\u001b[0;31m---------------------------------------------------------------------------\u001b[0m",
      "\u001b[0;31mTypeError\u001b[0m                                 Traceback (most recent call last)",
      "Cell \u001b[0;32mIn [12], line 7\u001b[0m\n\u001b[1;32m      5\u001b[0m         b\u001b[38;5;241m=\u001b[39mimg\u001b[38;5;241m.\u001b[39mgetpixel((x,y))\n\u001b[1;32m      6\u001b[0m         b\u001b[38;5;241m=\u001b[39m\u001b[38;5;241m255\u001b[39m\u001b[38;5;241m*\u001b[39mrandom\u001b[38;5;241m.\u001b[39mrandom()\n\u001b[0;32m----> 7\u001b[0m         img3\u001b[38;5;241m.\u001b[39mputpixel((x,y),b)\n\u001b[1;32m      8\u001b[0m img3\u001b[38;5;241m.\u001b[39mshow()\n",
      "File \u001b[0;32m/Library/Frameworks/Python.framework/Versions/3.9/lib/python3.9/site-packages/PIL/Image.py:1750\u001b[0m, in \u001b[0;36mImage.putpixel\u001b[0;34m(self, xy, value)\u001b[0m\n\u001b[1;32m   1743\u001b[0m \u001b[38;5;28;01mif\u001b[39;00m (\n\u001b[1;32m   1744\u001b[0m     \u001b[38;5;28mself\u001b[39m\u001b[38;5;241m.\u001b[39mmode \u001b[38;5;241m==\u001b[39m \u001b[38;5;124m\"\u001b[39m\u001b[38;5;124mP\u001b[39m\u001b[38;5;124m\"\u001b[39m\n\u001b[1;32m   1745\u001b[0m     \u001b[38;5;129;01mand\u001b[39;00m \u001b[38;5;28misinstance\u001b[39m(value, (\u001b[38;5;28mlist\u001b[39m, \u001b[38;5;28mtuple\u001b[39m))\n\u001b[1;32m   1746\u001b[0m     \u001b[38;5;129;01mand\u001b[39;00m \u001b[38;5;28mlen\u001b[39m(value) \u001b[38;5;129;01min\u001b[39;00m [\u001b[38;5;241m3\u001b[39m, \u001b[38;5;241m4\u001b[39m]\n\u001b[1;32m   1747\u001b[0m ):\n\u001b[1;32m   1748\u001b[0m     \u001b[38;5;66;03m# RGB or RGBA value for a P image\u001b[39;00m\n\u001b[1;32m   1749\u001b[0m     value \u001b[38;5;241m=\u001b[39m \u001b[38;5;28mself\u001b[39m\u001b[38;5;241m.\u001b[39mpalette\u001b[38;5;241m.\u001b[39mgetcolor(value)\n\u001b[0;32m-> 1750\u001b[0m \u001b[38;5;28;01mreturn\u001b[39;00m \u001b[38;5;28;43mself\u001b[39;49m\u001b[38;5;241;43m.\u001b[39;49m\u001b[43mim\u001b[49m\u001b[38;5;241;43m.\u001b[39;49m\u001b[43mputpixel\u001b[49m\u001b[43m(\u001b[49m\u001b[43mxy\u001b[49m\u001b[43m,\u001b[49m\u001b[43m \u001b[49m\u001b[43mvalue\u001b[49m\u001b[43m)\u001b[49m\n",
      "\u001b[0;31mTypeError\u001b[0m: color must be int or tuple"
     ]
    }
   ],
   "source": [
    "import random\n",
    "img3=Image.new(\"L\",size)\n",
    "for x in range(size[0]):\n",
    "    for y in range(size[1]):\n",
    "        b=img.getpixel((x,y))\n",
    "        b=255*random.random()\n",
    "        img3.putpixel((x,y),b)\n",
    "img3.show()"
   ]
  },
  {
   "cell_type": "code",
   "execution_count": null,
   "id": "d70348d4",
   "metadata": {},
   "outputs": [],
   "source": []
  }
 ],
 "metadata": {
  "kernelspec": {
   "display_name": "Python 3 (ipykernel)",
   "language": "python",
   "name": "python3"
  },
  "language_info": {
   "codemirror_mode": {
    "name": "ipython",
    "version": 3
   },
   "file_extension": ".py",
   "mimetype": "text/x-python",
   "name": "python",
   "nbconvert_exporter": "python",
   "pygments_lexer": "ipython3",
   "version": "3.9.1"
  }
 },
 "nbformat": 4,
 "nbformat_minor": 5
}
