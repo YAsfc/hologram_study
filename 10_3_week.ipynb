{
 "cells": [
  {
   "cell_type": "markdown",
   "id": "8598c645",
   "metadata": {},
   "source": [
    "pyhtonで画像を取り扱ったことがないので、まずは画像を生成する"
   ]
  },
  {
   "cell_type": "code",
   "execution_count": 2,
   "id": "9cb7a6d4",
   "metadata": {},
   "outputs": [],
   "source": [
    "from PIL import Image\n",
    "\n",
    "img=Image.new(\"L\",(500,500),80)\n",
    "img.show()"
   ]
  },
  {
   "cell_type": "markdown",
   "id": "56b56c9c",
   "metadata": {},
   "source": [
    "ピクセルの処理ができるようになりたいので、ネガポジ反転してみる"
   ]
  },
  {
   "cell_type": "code",
   "execution_count": 3,
   "id": "5cf4288d",
   "metadata": {},
   "outputs": [],
   "source": [
    "img2=Image.new(\"L\",img.size)\n",
    "\n",
    "size=img.size\n",
    "for x in range(size[0]):\n",
    "    for y in range(size[1]):\n",
    "        b=img.getpixel((x,y))\n",
    "        \n",
    "        b=255-b\n",
    "        img2.putpixel((x,y),(b))\n",
    "        \n",
    "img2.show()"
   ]
  },
  {
   "cell_type": "markdown",
   "id": "d0f39cac",
   "metadata": {},
   "source": [
    "ピクセルごとに値を変えてみる"
   ]
  },
  {
   "cell_type": "code",
   "execution_count": 4,
   "id": "a4273439",
   "metadata": {},
   "outputs": [],
   "source": [
    "import random\n",
    "img3=Image.new(\"L\",size)\n",
    "for x in range(size[0]):\n",
    "    for y in range(size[1]):\n",
    "        b=img.getpixel((x,y))\n",
    "        b=int(255*random.random())\n",
    "        img3.putpixel((x,y),(b))\n",
    "img3.show()"
   ]
  },
  {
   "cell_type": "markdown",
   "id": "c6a2d578",
   "metadata": {},
   "source": [
    "画像生成はできたので、本題の球面波に入る\n",
    "まずは1点の光源からホログラムを生成し、ゾーンプレートになるか確認する\n",
    "簡単のため、ピッチは1とする\n",
    "そのため、波長や振幅などのオーダーも、実際の10^6~10^7倍程度になっている"
   ]
  },
  {
   "cell_type": "code",
   "execution_count": 5,
   "id": "e8cfd5a7",
   "metadata": {},
   "outputs": [],
   "source": [
    "import math\n",
    "\n",
    "\n",
    "\n",
    "x0=500\n",
    "y0=500\n",
    "z0=1\n",
    "\n",
    "k=2*math.pi*0.1\n",
    "\n",
    "#画像初期化\n",
    "zonePlate=Image.new(\"L\",(1000,1000))\n",
    "size=zonePlate.size\n",
    "\n",
    "for x in range(size[0]):\n",
    "    for y in range(size[1]):\n",
    "        r=math.sqrt(pow(x-x0,2)+pow(y-y0,2)+pow(z0,2))\n",
    "        Intensity=int(1/r*math.cos(k*r)*256)*30\n",
    "        Intensity=256-Intensity\n",
    "        zonePlate.putpixel((x,y),(Intensity))\n",
    "zonePlate.show()"
   ]
  },
  {
   "cell_type": "markdown",
   "id": "a1f2a501",
   "metadata": {},
   "source": [
    "次はこれを立体に反映させる。\n",
    " 立方体上の27点からの光源を反映させた場合\n",
    " \n",
    " 1000点の場合ですら、自分のローカルでは計算結果が5分以上出てこなかった.."
   ]
  },
  {
   "cell_type": "code",
   "execution_count": 37,
   "id": "8669dea2",
   "metadata": {},
   "outputs": [],
   "source": [
    "k=2*math.pi*0.5\n",
    "\n",
    "boxelPlate=Image.new(\"L\",(300,300),256)\n",
    "size=boxelPlate.size\n",
    "\n",
    "\n",
    "for x in range(size[0]):\n",
    "    for y in range(size[1]):\n",
    "        Intensity=0\n",
    "        for a in range(3):\n",
    "            for b in range(3):\n",
    "                for c in range(3):\n",
    "                    r=math.sqrt(pow(x-a*25+125,2)+pow(y-b*25+125,2)+pow(25*c+125,2))\n",
    "                    Intensity+=int(1/r*math.cos(k*r)*256)*30\n",
    "        Intensity=256-Intensity\n",
    "        boxelPlate.putpixel((x,y),(Intensity))\n",
    "boxelPlate.show()"
   ]
  },
  {
   "cell_type": "code",
   "execution_count": null,
   "id": "6cf5b43b",
   "metadata": {},
   "outputs": [],
   "source": []
  },
  {
   "cell_type": "code",
   "execution_count": null,
   "id": "19e1a817",
   "metadata": {},
   "outputs": [],
   "source": []
  }
 ],
 "metadata": {
  "kernelspec": {
   "display_name": "Python 3 (ipykernel)",
   "language": "python",
   "name": "python3"
  },
  "language_info": {
   "codemirror_mode": {
    "name": "ipython",
    "version": 3
   },
   "file_extension": ".py",
   "mimetype": "text/x-python",
   "name": "python",
   "nbconvert_exporter": "python",
   "pygments_lexer": "ipython3",
   "version": "3.9.1"
  }
 },
 "nbformat": 4,
 "nbformat_minor": 5
}
