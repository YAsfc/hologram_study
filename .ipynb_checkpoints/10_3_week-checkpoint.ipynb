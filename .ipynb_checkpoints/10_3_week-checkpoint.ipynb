{
 "cells": [
  {
   "cell_type": "markdown",
   "id": "8598c645",
   "metadata": {},
   "source": [
    "pyhtonで画像を取り扱ったことがないので、まずは画像を生成する"
   ]
  },
  {
   "cell_type": "code",
   "execution_count": 1,
   "id": "9cb7a6d4",
   "metadata": {},
   "outputs": [],
   "source": [
    "from PIL import Image\n",
    "\n",
    "img=Image.new(\"L\",(500,500),80)\n",
    "img.show()"
   ]
  },
  {
   "cell_type": "markdown",
   "id": "56b56c9c",
   "metadata": {},
   "source": [
    "ピクセルの処理ができるようになりたいので、ネガポジ反転してみる"
   ]
  },
  {
   "cell_type": "code",
   "execution_count": 2,
   "id": "5cf4288d",
   "metadata": {},
   "outputs": [],
   "source": [
    "img2=Image.new(\"L\",img.size)\n",
    "\n",
    "size=img.size\n",
    "for x in range(size[0]):\n",
    "    for y in range(size[1]):\n",
    "        b=img.getpixel((x,y))\n",
    "        \n",
    "        b=255-b\n",
    "        img2.putpixel((x,y),(b))\n",
    "        \n",
    "img2.show()"
   ]
  },
  {
   "cell_type": "markdown",
   "id": "d0f39cac",
   "metadata": {},
   "source": [
    "ピクセルごとに値を変えてみる"
   ]
  },
  {
   "cell_type": "code",
   "execution_count": 5,
   "id": "a4273439",
   "metadata": {},
   "outputs": [],
   "source": [
    "import random\n",
    "img3=Image.new(\"L\",size)\n",
    "for x in range(size[0]):\n",
    "    for y in range(size[1]):\n",
    "        b=img.getpixel((x,y))\n",
    "        b=int(255*random.random())\n",
    "        img3.putpixel((x,y),(b))\n",
    "img3.show()"
   ]
  },
  {
   "cell_type": "markdown",
   "id": "c6a2d578",
   "metadata": {},
   "source": [
    "画像生成はできたので、本題の球面波に入る\n",
    "まずは1点の光源からホログラムを生成し、ゾーンプレートになるか確認する"
   ]
  },
  {
   "cell_type": "code",
   "execution_count": 45,
   "id": "e8cfd5a7",
   "metadata": {},
   "outputs": [],
   "source": [
    "import math\n",
    "import numpy as np \n",
    "\n",
    "pitch=pow(10,-6)\n",
    "\n",
    "x0=500*pitch\n",
    "y0=500*pitch\n",
    "z0=50*pitch\n",
    "\n",
    "\n",
    "wavelength=pow(6,-7)\n",
    "\n",
    "k=2*math.pi/wavelength\n",
    "\n",
    "#画像初期化\n",
    "zonePlate=Image.new(\"L\",(1000,1000),256)\n",
    "size=zonePlate.size\n",
    "array=np.zeros((size[0],size[1]))\n",
    "\n",
    "for x in range(size[0]):\n",
    "    for y in range(size[1]):\n",
    "        r=math.sqrt(pow(pitch*x-x0,2)+pow(pitch*y-y0,2)+pow(z0,2))\n",
    "        Intensity=int(1/r*math.cos(k*r)*256)*30\n",
    "        Intensity=256-Intensity\n",
    "        array[x][y]=Intensity\n",
    "        \n",
    "array=array/np.max(array)*256\n",
    "for x in range(size[0]):\n",
    "    for y in range(size[1]):\n",
    "        zonePlate.putpixel((x,y),(int(array[x,y])))\n",
    "                           \n",
    "zonePlate.show()"
   ]
  },
  {
   "cell_type": "markdown",
   "id": "a1f2a501",
   "metadata": {},
   "source": [
    "次はこれを立体に反映させる。\n",
    " 立方体上の27点からの光源を反映させた場合\n",
    " \n",
    " 1000点の場合ですら、自分のローカルでは計算結果が5分以上出てこなかった.."
   ]
  },
  {
   "cell_type": "code",
   "execution_count": 53,
   "id": "8669dea2",
   "metadata": {},
   "outputs": [
    {
     "name": "stdout",
     "output_type": "stream",
     "text": [
      "11195.0\n",
      "256.0\n"
     ]
    }
   ],
   "source": [
    "k=2*math.pi/wavelength\n",
    "\n",
    "boxelPlate=Image.new(\"L\",(1000,1000),256)\n",
    "size=boxelPlate.size\n",
    "\n",
    "x0=499*pitch\n",
    "y0=499*pitch\n",
    "z0=50*pitch\n",
    "\n",
    "array=np.zeros((size[0],size[1]))\n",
    "\n",
    "\n",
    "for x in range(size[0]):\n",
    "    for y in range(size[1]):\n",
    "        Intensity=0\n",
    "        for a in range(3):\n",
    "            for b in range(3):\n",
    "                for c in range(3):\n",
    "                    r=math.sqrt(pow(pitch*x-a*pitch*1+x0,2)+pow(pitch*y-b*pitch*1+y0,2)+pow(pitch*1*c+z0,2))\n",
    "                    Intensity+=int(1/r*math.cos(k*r))      \n",
    "     \n",
    "        array[x][y]=Intensity\n",
    "\n",
    "print(np.max(array))\n",
    "\n",
    "        \n",
    "array=array/np.max(array)*256\n",
    "print(np.max(array))\n",
    "256-array\n",
    "for x in range(size[0]):\n",
    "    for y in range(size[1]):\n",
    "        boxelPlate.putpixel((x,y),(int(array[x,y])))\n",
    "\n",
    "boxelPlate.show()"
   ]
  },
  {
   "cell_type": "code",
   "execution_count": null,
   "id": "6cf5b43b",
   "metadata": {},
   "outputs": [],
   "source": []
  },
  {
   "cell_type": "code",
   "execution_count": null,
   "id": "19e1a817",
   "metadata": {},
   "outputs": [],
   "source": []
  }
 ],
 "metadata": {
  "kernelspec": {
   "display_name": "Python 3 (ipykernel)",
   "language": "python",
   "name": "python3"
  },
  "language_info": {
   "codemirror_mode": {
    "name": "ipython",
    "version": 3
   },
   "file_extension": ".py",
   "mimetype": "text/x-python",
   "name": "python",
   "nbconvert_exporter": "python",
   "pygments_lexer": "ipython3",
   "version": "3.9.1"
  }
 },
 "nbformat": 4,
 "nbformat_minor": 5
}
